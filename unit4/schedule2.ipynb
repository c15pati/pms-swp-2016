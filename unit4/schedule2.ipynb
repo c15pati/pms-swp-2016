{
 "cells": [
  {
   "cell_type": "markdown",
   "metadata": {},
   "source": [
    "# Γράφοι τριάδων και URIs\n",
    "\n",
    "Συνέχεια της προηγούμενης άσκησης. Θα πρέπει να έχετε ήδη έτοιμο το csv με το ωρολόγιο πρόγραμμα σε μορφή EAV (τρεις στήλες, χωρίς επικεφαλίδες).\n",
    "\n",
    "*Δεν το έχετε διαθέσιμο; Πάρτε το [έτοιμο υπόδειγμα](https://github.com/mixstef/pms-swp-2016/raw/master/unit3/schedule-eav.csv) (**αν και είναι προτιμότερο να χρησιμοποιήσετε το δικό σας!**)*\n",
    "\n",
    "\n",
    "## 1. Φορτώστε το csv σε μια λίστα\n",
    "Τώρα πια πρέπει να ξέρετε πώς να το κάνετε. Συμπληρώστε στο επόμενο κελί.\n",
    "\n",
    "*Πρόβλημα; Συμβουλευτείτε [τη λύση](https://gist.github.com/mixstef/395b16dc7fd901785a68#file-part1-py) από την προηγούμενη άσκηση. **Αποφύγετε το copy-paste!** *"
   ]
  },
  {
   "cell_type": "code",
   "execution_count": 1,
   "metadata": {
    "collapsed": false
   },
   "outputs": [],
   "source": [
    "# φορτώστε εδώ το csv σας σε μια λίστα\n"
   ]
  },
  {
   "cell_type": "markdown",
   "metadata": {},
   "source": [
    "## 2. Αντικαταστήστε τους μη επιτρεπόμενους χαρακτήρες στα URIs\n",
    "\n",
    "Δημιουργήστε μια καινούργια λίστα τριάδων, έχοντας αντικαταστήσει όλους τους μη επιτρεπόμενους χαρακτήρες **στα URIs** με τη βοήθεια της Python. Χρησιμοποιήστε τη συνάρτηση `uri_quote` από το επόμενο κελί.\n",
    "\n",
    "**Προσοχή!** Δεν είναι όλα τα μέρη των τριάδων URIs!\n",
    "\n",
    "* Το υποκείμενο (πρώτο μέρος κάθε τριάδας, id Διάλεξης) είναι ανώνυμος κόμβος\n",
    "* Το κατηγόρημα είναι πάντα URI\n",
    "* Τα αντικείμενα των σχέσεων Ημέρα, Ωρα Έναρξης/Λήξης, Εξάμηνο είναι απλές τιμές (literals)\n",
    "\n",
    "\n",
    "Σημείωση: Μην χρησιμοποιήστε τη συνάρτηση `urllib.parse.quote` της Python3: δεν είναι κατάλληλη για URIs! "
   ]
  },
  {
   "cell_type": "code",
   "execution_count": 5,
   "metadata": {
    "collapsed": false
   },
   "outputs": [],
   "source": [
    "# μην αλλάξετε το κελί αυτό, απλώς εκτελέστε το!\n",
    "import re\n",
    "\n",
    "rexp = re.compile(\"[:/\\\\?#\\\\[\\\\]@!\\\\$&'\\\\(\\\\)\\\\*\\\\+,;=< >\\\" \\\\{\\\\}\\\\|\\\\\\\\^`]\")\n",
    "\n",
    "def q_f(m):\n",
    "    return '%{:02X}'.format(ord(m.group(0)))\n",
    "\n",
    "def uri_quote(s):\n",
    "    return rexp.sub(q_f,s)"
   ]
  },
  {
   "cell_type": "code",
   "execution_count": 2,
   "metadata": {
    "collapsed": false
   },
   "outputs": [],
   "source": [
    "# η μετατροπή σας εδώ\n"
   ]
  },
  {
   "cell_type": "markdown",
   "metadata": {},
   "source": [
    "## 3. Σημειώστε τους ανώνυμους κόμβους\n",
    "\n",
    "Για να είναι ευκολότερη η μελλοντική επεξεργασία, ας \"επισημειώσουμε\" τους ανώνυμους κόμβους (blank nodes). \n",
    "\n",
    "* Αν ένα μέρος τριάδας είναι **ανώνυμος κόμβος**, βάλτε μπροστά από το ονομά του το string `_:bnode`\n",
    "\n",
    "Σαρώστε την προηγούμενη λίστα και μετατρέψτε (μέσω Python) σε νέα λίστα, όπου οι ανώνυμοι κόμβοι θα έχουν το κατάλληλο πρόθεμα.\n",
    "\n",
    "\n",
    "Στην Python μπορείτε να συνενώσετε 2 strings με το `+`:\n",
    "\n",
    "```python\n",
    "a = '1'\n",
    "b = '_:bnode'+a\n",
    "print(b)    # will print '_:bnode1'\n",
    "```\n",
    "\n",
    "\n",
    "Συμπληρώστε στο επόμενο κελί."
   ]
  },
  {
   "cell_type": "code",
   "execution_count": 4,
   "metadata": {
    "collapsed": false
   },
   "outputs": [],
   "source": [
    "# η μετατροπή σας εδώ\n"
   ]
  },
  {
   "cell_type": "markdown",
   "metadata": {},
   "source": [
    "## 4. Ολοκληρώστε τη μετατροπή σε URIs\n",
    "\n",
    "Στο μέρος (2) προετοιμάσατε τα ονόματά σας για να μετατραπούν σε URIs. Ολοκληρώστε εδώ τη μετατροπή σε πρότυπα URIs. Φτιάξτε μια νέα λίστα:\n",
    "\n",
    "* Τα URIs των κατηγορημάτων (p) θα έχουν ως πρόθεμα τον χώρο ονομάτων\n",
    "  \n",
    "  `http://dilab77.ionio.gr/swp/you/vocab#`\n",
    "  \n",
    "  όπου `you` πρέπει να είναι το username που έχετε στο JupyterHub.\n",
    "  \n",
    "  Σημ: εδώ φτιάχνετε το δικό σας **λεξιλόγιο**. Σε πραγματικές συνθήκες αυτό δεν συνιστάται!\n",
    "  \n",
    "* Τα URIs των αντικειμένων (προσοχή! όχι τα literals) θα έχουν το πρόθεμα\n",
    "\n",
    "  `http://dilab77.ionio.gr/swp/you/resource/`\n",
    "\n",
    "  όπου `you` πρέπει πάλι να είναι το username που έχετε στο JupyterHub."
   ]
  },
  {
   "cell_type": "code",
   "execution_count": 7,
   "metadata": {
    "collapsed": false
   },
   "outputs": [],
   "source": [
    "# η μετατροπή σας εδώ\n"
   ]
  },
  {
   "cell_type": "markdown",
   "metadata": {},
   "source": [
    "## 4. Αποθηκεύστε τις νέες τριάδες.\n",
    "\n",
    "Αποθηκεύστε τις τελικές τριάδες σε νέο csv. Κατεβάστε το νέο csv από τον server πριν αποσυνδεθείτε.\n",
    "\n",
    "*Πρέπει να ξέρετε πώς θα το κάνετε. [Λίγη βοήθεια;](https://gist.github.com/mixstef/dbe510b526eb8b3ace9d#file-part6-py)*\n",
    "\n",
    "**Θυμηθείτε:** δεν θέλουμε επικεφαλίδες στο csv αυτό!\n"
   ]
  },
  {
   "cell_type": "code",
   "execution_count": 8,
   "metadata": {
    "collapsed": false
   },
   "outputs": [],
   "source": [
    "# αποθηκεύστε την τελική λίστα εδώ"
   ]
  }
 ],
 "metadata": {
  "kernelspec": {
   "display_name": "Python 3",
   "language": "python",
   "name": "python3"
  },
  "language_info": {
   "codemirror_mode": {
    "name": "ipython",
    "version": 3
   },
   "file_extension": ".py",
   "mimetype": "text/x-python",
   "name": "python",
   "nbconvert_exporter": "python",
   "pygments_lexer": "ipython3",
   "version": "3.4.3"
  }
 },
 "nbformat": 4,
 "nbformat_minor": 0
}
