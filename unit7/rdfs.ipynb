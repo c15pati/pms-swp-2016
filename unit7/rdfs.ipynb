{
 "cells": [
  {
   "cell_type": "markdown",
   "metadata": {},
   "source": [
    "# Δοκιμάζοντας το σχήμα της RDF (RDFS)\n",
    "\n",
    "Στην άσκηση αυτή θα επεξεργαστείτε σημασιολογικά δεδομένα με τη βοήθεια του RDFS.\n"
   ]
  },
  {
   "cell_type": "markdown",
   "metadata": {},
   "source": [
    "## 1. Η βιβλιοθήκη rdflib της Python\n",
    "\n",
    "Θα χρησιμοποιήσετε την πιο γνωστή βιβλιοθήκη επεξεργασίας σημασιολογικών δεδομένων, `rdflib`.\n",
    "\n",
    "Δείτε τα [παραδείγματα χρήσης της rdflib](https://gist.github.com/mixstef/d37a728b175d82036d8a)."
   ]
  },
  {
   "cell_type": "markdown",
   "metadata": {},
   "source": [
    "## 2. Βρείτε τις υποκλάσεις στο πρότυπο FOAF\n",
    "\n",
    "* (2.1) Φορτώστε σε έναν γράφο της rdflib τις τριάδες του FOAF από τη διεύθυνση [http://xmlns.com/foaf/0.1/](http://xmlns.com/foaf/0.1/) (το format είναι `xml`)\n"
   ]
  },
  {
   "cell_type": "code",
   "execution_count": 1,
   "metadata": {
    "collapsed": false
   },
   "outputs": [],
   "source": [
    "import rdflib\n",
    "from rdflib.namespace import FOAF,RDF,RDFS,XSD\n",
    "\n",
    "# φορτώστε το γράφο εδώ"
   ]
  },
  {
   "cell_type": "markdown",
   "metadata": {},
   "source": [
    "* (2.2) Εντοπίστε τις σχέσεις `rdfs:subClassOf` (απλά τυπώστε ποιος είναι υποκλάση ποιου)"
   ]
  },
  {
   "cell_type": "code",
   "execution_count": 2,
   "metadata": {
    "collapsed": false
   },
   "outputs": [],
   "source": [
    "# χρησιμοποιήστε την graph.triples()"
   ]
  },
  {
   "cell_type": "markdown",
   "metadata": {},
   "source": [
    "* (2.3) Επαναλάβετε το προηγούμενο, αυτή τη φορά όμως θέλουμε να δημιουργήσουμε ένα λεξικό στη μορφή\n",
    "\n",
    "```python\n",
    "superclass_dict = { 'superclass1': ['subclass1','subclass2'],\n",
    "                    'superclass2': ['subclass3'],\n",
    "                  # .. κ.ο.κ ..\n",
    "                  }\n",
    "```"
   ]
  },
  {
   "cell_type": "code",
   "execution_count": 3,
   "metadata": {
    "collapsed": false
   },
   "outputs": [],
   "source": [
    "# η λύση σας εδώ"
   ]
  },
  {
   "cell_type": "markdown",
   "metadata": {},
   "source": [
    "## 3. Βρείτε foaf:Agents\n",
    "\n",
    "* (3.1) Φορτώστε (σε νέο γράφο) τα σημασιολογικά δεδομένα από τη διεύθυνση [http://dbpedia.org/data/Lodovico_Giustini.ntriples](http://dbpedia.org/data/Lodovico_Giustini.ntriples) (το format είναι `turtle`)"
   ]
  },
  {
   "cell_type": "code",
   "execution_count": 4,
   "metadata": {
    "collapsed": false
   },
   "outputs": [],
   "source": [
    "# φορτώστε τον νέο γράφο"
   ]
  },
  {
   "cell_type": "markdown",
   "metadata": {},
   "source": [
    "* (3.2) Πόσες οντότητες `foaf:Agent` μπορείτε να βρείτε;"
   ]
  },
  {
   "cell_type": "code",
   "execution_count": 5,
   "metadata": {
    "collapsed": true
   },
   "outputs": [],
   "source": [
    "# ρωτήστε για foaf:Agent"
   ]
  },
  {
   "cell_type": "markdown",
   "metadata": {},
   "source": [
    "* (3.3) Επαναλάβετε για `foaf:Person`"
   ]
  },
  {
   "cell_type": "code",
   "execution_count": 6,
   "metadata": {
    "collapsed": false
   },
   "outputs": [],
   "source": [
    "# ρωτήστε για foaf:Person"
   ]
  },
  {
   "cell_type": "markdown",
   "metadata": {},
   "source": [
    "* (3.4) Προφανώς η μέθοδος `graph.triples()` δεν εξάγει συμπεράσματα σύμφωνα με το RDFS. Φτιάξτε μια συνάρτηση η οποία θα παίρνει ως ορίσματα:\n",
    "    * Τον γράφο που γίνεται το ερώτημα\n",
    "    * Τον τύπο (`rdf:type`) που ψάχνουμε\n",
    "    * Το λεξικό των υποκλάσεων\n",
    "    \n",
    "    και επιστρέφει τις οντότητες του ζητούμενου τύπου\n",
    "    \n",
    "**Ποια είναι η ιδέα:** Ξέρουμε ότι εάν μια κλάση `C` είναι υποκλάση μιας `C'` τότε καθε στιγμιότυπο της `C` είναι και στιγμιότυπο της `C'`. Η συνάρτηση που θα φτιάξετε εξετάζει όχι μόνο τον τύπο που ζητήθηκε αλλά και κάθε υποκλάση του."
   ]
  },
  {
   "cell_type": "code",
   "execution_count": 1,
   "metadata": {
    "collapsed": true
   },
   "outputs": [],
   "source": [
    "#def rdfs_inf(g,t,d):"
   ]
  },
  {
   "cell_type": "markdown",
   "metadata": {},
   "source": [
    "* (3.5) Δοκιμάστε με τη συνάρτησή σας ξανά το ερώτημα για `foaf:Agent`"
   ]
  },
  {
   "cell_type": "code",
   "execution_count": 8,
   "metadata": {
    "collapsed": false
   },
   "outputs": [],
   "source": [
    "# καλέστε τη συνάρτησή σας και τυπώστε"
   ]
  },
  {
   "cell_type": "markdown",
   "metadata": {},
   "source": [
    "## 4. Βρείτε domains και ranges\n",
    "\n",
    "Φορτώστε σε νέο γράφο τις τριάδες από τη διεύθυνση \n",
    "[http://www.bbc.co.uk/programmes/b00nj6cl.rdf](http://www.bbc.co.uk/programmes/b00nj6cl.rdf) (μορφή `xml`).\n",
    "\n",
    "\n",
    "[http://www.bbc.co.uk/ontologies/po/1.0.ttl](http://www.bbc.co.uk/ontologies/po/1.0.ttl) (μορφή `turtle`)."
   ]
  },
  {
   "cell_type": "code",
   "execution_count": 10,
   "metadata": {
    "collapsed": false
   },
   "outputs": [],
   "source": [
    "# φορτώστε τον γράφο δεδομένων"
   ]
  },
  {
   "cell_type": "markdown",
   "metadata": {},
   "source": [
    "* (4.1) Μπορείτε να βρείτε οντότητες `foaf:Agent`;"
   ]
  },
  {
   "cell_type": "code",
   "execution_count": 11,
   "metadata": {
    "collapsed": true
   },
   "outputs": [],
   "source": [
    "# η λύση σας εδώ"
   ]
  },
  {
   "cell_type": "markdown",
   "metadata": {},
   "source": [
    "* (4.2) Ας δοκιμάσουμε κάτι άλλο. Φορτώστε (πάλι σε νέο γράφο) τις τριάδες από τη διεύθυνση [http://www.bbc.co.uk/ontologies/po/1.0.ttl](http://www.bbc.co.uk/ontologies/po/1.0.ttl) (μορφή `turtle`)."
   ]
  },
  {
   "cell_type": "code",
   "execution_count": 12,
   "metadata": {
    "collapsed": false
   },
   "outputs": [],
   "source": [
    "# φορτώστε τον γράφο με το λεξιλόγιο RDFS"
   ]
  },
  {
   "cell_type": "markdown",
   "metadata": {},
   "source": [
    "* (4.3) Τυπώστε όλες τις δηλώσεις `rdfs:domain` και `rdfs:range` με αντικείμενο `foaf:Agent`"
   ]
  },
  {
   "cell_type": "code",
   "execution_count": 13,
   "metadata": {
    "collapsed": false
   },
   "outputs": [],
   "source": [
    "# ψάξτε για τριάδες με ιδιότητες rdfs:domain και rdfs:range"
   ]
  },
  {
   "cell_type": "markdown",
   "metadata": {},
   "source": [
    "* (4.4) Επαναλάβετε, τοποθετώντας τις ιδιότητες που έχουν domain ή range το `foaf:Agent` σε δύο set."
   ]
  },
  {
   "cell_type": "code",
   "execution_count": 14,
   "metadata": {
    "collapsed": false
   },
   "outputs": [],
   "source": [
    "# ..."
   ]
  },
  {
   "cell_type": "markdown",
   "metadata": {},
   "source": [
    "* (4.5) Μπορείτε να βρείτε ξανά τις οντότητες `foaf:Agent` με τη βοήθεια των δύο set;"
   ]
  },
  {
   "cell_type": "code",
   "execution_count": 15,
   "metadata": {
    "collapsed": false
   },
   "outputs": [],
   "source": [
    "# ..."
   ]
  },
  {
   "cell_type": "markdown",
   "metadata": {},
   "source": [
    "* (4.6) Οι οντότητες που επιστρέφονται είναι ανώνυμοι κόμβοι! Μήπως υπάρχει πιο ανθρώπινη λεζάντα για τον καθέναν από αυτούς; Δοκιμάστε να βρείτε τριάδες με την ιδιότητα `rdfs:label`!"
   ]
  },
  {
   "cell_type": "code",
   "execution_count": 16,
   "metadata": {
    "collapsed": false
   },
   "outputs": [],
   "source": [
    "# ..."
   ]
  }
 ],
 "metadata": {
  "kernelspec": {
   "display_name": "Python 3",
   "language": "python",
   "name": "python3"
  },
  "language_info": {
   "codemirror_mode": {
    "name": "ipython",
    "version": 3
   },
   "file_extension": ".py",
   "mimetype": "text/x-python",
   "name": "python",
   "nbconvert_exporter": "python",
   "pygments_lexer": "ipython3",
   "version": "3.4.3"
  }
 },
 "nbformat": 4,
 "nbformat_minor": 0
}
