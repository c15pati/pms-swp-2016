{
 "cells": [
  {
   "cell_type": "markdown",
   "metadata": {},
   "source": [
    "# Το ωρολόγιο πρόγραμμα\n",
    "\n",
    "Στην άσκηση αυτή ασχολούμαστε με τα σημασιολογικά δεδομένα σε μορφή πίνακα (μοντέλο EAV).\n",
    "\n",
    "## 1. Τα δεδομένα εισόδου.\n",
    "\n",
    "Χρησιμοποιήστε το [ωρολόγιο πρόγραμμα](http://di.ionio.gr/en/studies/postgraduate-studies/timetable-msc-informatics.html?view=docman) εξ αποστάσεως μαθημάτων του ΠΜΣ (όποια κατεύθυνση θέλετε).\n"
   ]
  },
  {
   "cell_type": "markdown",
   "metadata": {},
   "source": [
    "## 2. Οργανώστε σε μορφή πίνακα.\n",
    "\n",
    "Προσπαθήστε να εκφράσετε την περιεχόμενη πληροφορία σε μορφή πίνακα.\n",
    "\n",
    "* Για βοήθεια, σκεφτείτε πώς θα οργανώνατε την πληροφορία στο **σχεσιακό** μοντέλο.\n",
    "\n",
    "    - Θα καταλήξετε χονδρικά στους εξής σχεσιακούς πίνακες: `Καθηγητής`, `Μάθημα`, `Αίθουσα`, `Εξάμηνο` και `Διάλεξη`.\n",
    "    \n",
    "    - Η `Διάλεξη` (ένα γεμάτο κελί του αρχικού ωρολογίου pdf) είναι η **κομβική οντότητα** που συνδέεται με όλες τις άλλες.\n",
    "\n",
    "    - Διαθέτει επίσης πληροφορία `Ώρας Έναρξης/Λήξης` και `Ημέρας`.\n",
    "    \n",
    "Χρησιμοποιήστε τη Διάλεξη ως **κομβική οντότητα** πληροφορίας του ωρολογίου προγράμματος: κάθε *γραμμή* του πίνακα θα είναι εκφράζει μια τέτοια οντότητα (`Διάλεξη`) και η υπόλοιπη πληροφορία θα τοποθετηθεί στις *στήλες*, ως ιδιότητες κάθε διάλεξης.\n",
    "\n",
    "Εισάγετε τα στοιχεία του πίνακα (χρησιμοποιήστε Google Sheets!), τοποθετώντας στην πρώτη γραμμή τις κατάλληλες επικεφαλίδες των στηλών. Στη συνέχεια αποθηκεύστε στη μορφή csv (File -> Download As -> Comma separated values). Περάστε το αρχείο csv στην εφαρμογή Jupyter (κουμπί Upload). Βεβαιωθείτε ότι βρίσκεται στον ίδιο φάκελο με το παρόν notebook (schedule.ipynb).\n",
    "\n",
    "**Προσοχή! το ζητούμενο δεν είναι να αναπαράγετε τον πίνακα του ωρολογίου προγράμματος ως έχει!**\n",
    "\n"
   ]
  },
  {
   "cell_type": "markdown",
   "metadata": {},
   "source": [
    "## 3. Διαβάστε μέσω Python\n",
    "\n",
    "Φορτώστε τα csv δεδομένα σας σε μια λίστα. Για ανάγνωση από αρχείο csv, ακολουθήστε το υπόδειγμα: \n",
    "\n",
    "```python\n",
    "import csv\n",
    "\n",
    "with open('your-file.csv','r',newline='') as ifp:\n",
    "    \n",
    "    # create csv reader object\n",
    "    reader = csv.reader(ifp)\n",
    "    \n",
    "    # read first row (headers)\n",
    "    headers = next(reader)\n",
    "    \n",
    "    # process each row\n",
    "    for row in reader:\n",
    "        \n",
    "        #do something with row\n",
    "\n",
    "```    "
   ]
  },
  {
   "cell_type": "code",
   "execution_count": 1,
   "metadata": {
    "collapsed": false
   },
   "outputs": [],
   "source": [
    "# ακολουθήστε το υπόδειγμα"
   ]
  },
  {
   "cell_type": "markdown",
   "metadata": {},
   "source": [
    "## 4. Μετατρέψτε στο μοντέλο EAV\n",
    "\n",
    "Από τη λίστα των δεδομένων φτιάξτε μια νέα λίστα τριάδων σύμφωνα με το μοντέλο EAV (Entity-Attribute-Value). Χρησιμοποιήστε τις επικεφαλίδες του αρχικού csv αρχείου ως *attribute*.\n",
    "\n",
    "Τι θα χρησιμοποιήσετε ως *entity* και τι ως *value*;"
   ]
  },
  {
   "cell_type": "code",
   "execution_count": 5,
   "metadata": {
    "collapsed": false,
    "scrolled": false
   },
   "outputs": [],
   "source": [
    "eavlist = []\n",
    "#for i,row in enumerate(rows):\n",
    "    \n",
    "#    for j,col in enumerate(row):\n",
    "        \n",
    "        # ο δικός σας κώδικας εδώ\n",
    "        \n"
   ]
  },
  {
   "cell_type": "markdown",
   "metadata": {},
   "source": [
    "## 5. Η εφαρμογή AssistantBot\n",
    "\n",
    "Η εφαρμογή AssistantBot έχει σκοπό να βοηθά τους φοιτητές στη χρήση του ωρολογίου προγράμματός τους. Μέσω της εφαρμογής μπορεί να βρεθεί το πότε και πού διδάσκεται το κάθε μάθημα.\n",
    "\n",
    "Το AssistantBot χρησιμοποιεί τη λίστα τριάδων (EAV) που φτιάξατε. Συνεπώς έχετε ήδη έτοιμη τη συνάρτηση `match()` από την προηγούμενη άσκηση, μέσω της οποίας μπορείτε να ψάξετε στη λίστα!\n",
    "\n",
    "Αντιγράψτε τη συνάρτηση `match()` στο επόμενο κελί:"
   ]
  },
  {
   "cell_type": "code",
   "execution_count": 6,
   "metadata": {
    "collapsed": true
   },
   "outputs": [],
   "source": [
    "# αντιγράψτε από την προηγούμενη άσκηση\n"
   ]
  },
  {
   "cell_type": "markdown",
   "metadata": {},
   "source": [
    "### 5.1 Τί διδάσκεται μια συγκεκριμένη μέρα;\n",
    "\n",
    "Βοηθήστε το AssistantBot να βρει τα μαθήματα που διδάσκονται την Τρίτη."
   ]
  },
  {
   "cell_type": "code",
   "execution_count": 7,
   "metadata": {
    "collapsed": false
   },
   "outputs": [],
   "source": [
    "#for lecture in match(eavlist,...):\n"
   ]
  },
  {
   "cell_type": "markdown",
   "metadata": {},
   "source": [
    "### 5.2 Πότε διδάσκεται το κάθε μάθημα;\n",
    "\n",
    "Δώστε τον κώδικα για την εκτύπωση των λεπτομερειών κάθε μαθήματος (Ημέρα, Ώρα, Διδάσκων)."
   ]
  },
  {
   "cell_type": "code",
   "execution_count": 8,
   "metadata": {
    "collapsed": false
   },
   "outputs": [],
   "source": [
    "# for lectid,_,name in match(eavlist,...):\n"
   ]
  },
  {
   "cell_type": "markdown",
   "metadata": {},
   "source": [
    "## 6. Αποθηκεύστε τη λίστα EAV\n",
    "\n",
    "Χρησιμοποιήστε τον κώδικα από την προηγούμενη άσκηση για να αποθηκεύσετε τη λίστα EAV σε αρχείο csv (χωρίς επικεφαλίδες)."
   ]
  },
  {
   "cell_type": "code",
   "execution_count": 9,
   "metadata": {
    "collapsed": true
   },
   "outputs": [],
   "source": [
    "# χρησιμοποιήστε το υπόδειγμα της προηγούμενης άσκησης"
   ]
  }
 ],
 "metadata": {
  "kernelspec": {
   "display_name": "Python 3",
   "language": "python",
   "name": "python3"
  },
  "language_info": {
   "codemirror_mode": {
    "name": "ipython",
    "version": 3
   },
   "file_extension": ".py",
   "mimetype": "text/x-python",
   "name": "python",
   "nbconvert_exporter": "python",
   "pygments_lexer": "ipython3",
   "version": "3.4.3"
  }
 },
 "nbformat": 4,
 "nbformat_minor": 0
}
