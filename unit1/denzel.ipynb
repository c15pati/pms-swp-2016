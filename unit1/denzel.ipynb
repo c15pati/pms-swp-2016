{
 "cells": [
  {
   "cell_type": "markdown",
   "metadata": {},
   "source": [
    "# Ας μιλήσουμε για τον Denzel\n",
    "\n",
    "Στην άσκηση αυτή ασχολούμαστε με την άμεση και έμμεση σημασιολογία των δεδομένων.\n",
    "\n",
    "## 1. Τα δεδομένα εισόδου\n",
    "\n",
    "Δείτε την παρακάτω εικόνα (`denzel.jpg`, αναγράφεται επίσης ένα όνομα, έστω `John`, και ένα τηλέφωνο, έστω `555-6162`):\n",
    "\n",
    "![denzel.jpg](https://raw.githubusercontent.com/mixstef/pms-swp-2016/master/unit1/denzel.jpg)"
   ]
  },
  {
   "cell_type": "markdown",
   "metadata": {},
   "source": [
    "## 2. Ποια πληροφορία μπορείτε να αντλήσετε;\n",
    "\n",
    "Ποια πληροφορία πάρχει στην εικόνα (όπως την αντιλαμβάνεστε ως άνθρωποι);\n",
    "\n",
    "Συμπληρώστε στο επόμενο κελί σε μορφή markdown, φτιάχνοντας μια λίστα από απλές προτάσεις όσο το δυνατόν πιο κοντά στη μορφή υποκείμενο-ρήμα-αντικείμενο.\n",
    "\n",
    "\n",
    "Πόσες τέτοιες προτάσεις βρήκατε; Πρέπει να είναι τουλάχιστον 10!"
   ]
  },
  {
   "cell_type": "markdown",
   "metadata": {
    "collapsed": true
   },
   "source": [
    "### Απάντηση\n",
    "\n",
    "* πρόταση1\n",
    "* πρόταση2\n",
    "* ...\n"
   ]
  },
  {
   "cell_type": "markdown",
   "metadata": {},
   "source": [
    "## 3. Τι \"καταλαβαίνει\" η \"μηχανή\"\n",
    "\n",
    "Η (υποθετική) εφαρμογή PetBot έχει ως σκοπό την ανάγνωση αγγελιών υιοθεσίας κατοικιδίων και το ταίριασμα με άτομα από μια λίστα αιτήσεων. Το Petbot μπορεί να \"διαβάσει\" (μέσω OCR) τις αγγελίες και έστω ότι μπορεί ακόμα και να αναγνωρίσει το εικονιζόμενο κατοικίδιο.\n",
    "\n",
    "Τι απ' όσα καταλάβατε εσείς θα μάθει το PetBot από την προηγούμενη εικόνα; Γράψτε σε markdown στο επόμενο κελί."
   ]
  },
  {
   "cell_type": "markdown",
   "metadata": {},
   "source": [
    "### Απάντηση\n",
    "\n",
    "* ...\n",
    "* ..."
   ]
  },
  {
   "cell_type": "markdown",
   "metadata": {
    "collapsed": true
   },
   "source": [
    "## 4. Βοηθήστε το PetBot\n",
    "\n",
    "Στο επόμενο κελί γράψτε σε Python τις πληροφορίες της εικόνας ως λίστα τριάδων:\n",
    "\n",
    "```python\n",
    "info = [ ('υποκείμενο1','ρήμα1','αντικείμενο1'),\n",
    "         ('υποκείμενο2','ρήμα2','αντικείμενο2'),\n",
    "         ('...','...','...'),\n",
    "       ]\n",
    "```"
   ]
  },
  {
   "cell_type": "code",
   "execution_count": 1,
   "metadata": {
    "collapsed": false
   },
   "outputs": [],
   "source": [
    "# info = [(),(),..]\n"
   ]
  },
  {
   "cell_type": "markdown",
   "metadata": {},
   "source": [
    "Ας γράψουμε μια συνάρτηση που επιλέγει από μια λίστα τριάδων εκείνες που ταιριάζουν στο σχέδιο (s,p,o). Αν κάποιο από τα s,p,o είναι `None` τότε ταιριάζει κάθε τιμή. Η συνάρτηση θα επιστρέφει μια νέα λίστα."
   ]
  },
  {
   "cell_type": "code",
   "execution_count": 5,
   "metadata": {
    "collapsed": true
   },
   "outputs": [],
   "source": [
    "def match(l,s=None,p=None,o=None):\n",
    "    newl = []\n",
    "\n",
    "    # ..συμπληρώστε..\n",
    "    \n",
    "    return newl"
   ]
  },
  {
   "cell_type": "markdown",
   "metadata": {},
   "source": [
    "Πώς θα βρει το PetBot το κατοικίδια της αγγελίας; Καλέστε τη `match()` με τα κατάλληλα ορίσματα."
   ]
  },
  {
   "cell_type": "code",
   "execution_count": 4,
   "metadata": {
    "collapsed": false
   },
   "outputs": [],
   "source": [
    "# for offer in match(..συμπληρώστε..):\n",
    "#    print(..συμπληρώστε..)"
   ]
  },
  {
   "cell_type": "markdown",
   "metadata": {},
   "source": [
    "Το PetBot θέλει να μάθει τις προτιμήσεις υιοθεσίας του Denzel. Πώς θα το κάνει;\n",
    "\n",
    "*Μη βιαστείτε να αντιγράψετε την προηγούμενη λύση! Το PetBot στη λίστα `info` μπορεί να έχει και άλλες αγγελίες!*"
   ]
  },
  {
   "cell_type": "code",
   "execution_count": 6,
   "metadata": {
    "collapsed": false
   },
   "outputs": [],
   "source": [
    "# βρείτε πρώτα τον owner του Denzel και μετά τις προτιμήσεις του"
   ]
  },
  {
   "cell_type": "markdown",
   "metadata": {},
   "source": [
    "Βοηθήστε το PetBot να φτιάξει μια λίστα από εγγραφές προσφορών υιοθεσίας στη μορφή:\n",
    "\n",
    "```python\n",
    "offers = [ {'pet':'cat','onwner':'john','phone':'555-6162' } ]\n",
    "```"
   ]
  },
  {
   "cell_type": "code",
   "execution_count": 7,
   "metadata": {
    "collapsed": false
   },
   "outputs": [
    {
     "name": "stdout",
     "output_type": "stream",
     "text": [
      "[]\n"
     ]
    }
   ],
   "source": [
    "offers = []\n",
    "\n",
    "# μέσω της match() βρείτε τις προσφορές υιοθεσίας και από κάθε μία πάρτε τα ζητούμενα\n",
    "\n",
    "print(offers)    "
   ]
  },
  {
   "cell_type": "markdown",
   "metadata": {},
   "source": [
    "### Σημείωση\n",
    "\n",
    "* Τι θα συμβεί αν υπάρχουν πολλοί ιδιοκτήτες ή κατοικίδια με το ίδιο όνομα;\n",
    "    \n",
    "    *συμπληρώστε*\n",
    "    \n",
    "    \n",
    "* Αν ένας ιδιοκτήτης προσφέρει για υιοθεσία πολλά κατοικίδια;\n",
    "\n",
    "    *συμπληρώστε*"
   ]
  },
  {
   "cell_type": "markdown",
   "metadata": {},
   "source": [
    "## 5. Ας αποθηκεύσουμε τη λίστα προσφορών\n",
    "\n",
    "Τελειώνοντας ας αποθηκεύσουμε τις προσφορές σε μορφή csv: ένα spreadsheet με 3 στήλες (Pet,Owner,Phone). Αυτό είναι πολύ εύκολο στην Python:\n",
    "\n",
    "```python\n",
    "import csv\n",
    "\n",
    "with open('offers.csv','w',newline='') as csvfile:\n",
    "    writer = csv.writer(csvfile)\n",
    "    \n",
    "    writer.writerow(['Pet','Owner','Phone'])\n",
    "            \n",
    "```\n",
    "\n"
   ]
  },
  {
   "cell_type": "code",
   "execution_count": 9,
   "metadata": {
    "collapsed": false
   },
   "outputs": [],
   "source": [
    "# χρησιμοποιήστε το παράδειγμα: με τη writerow γράψτε την επικεφαλίδα\n",
    "# και κάθε άλλη γραμμή του spreadsheet"
   ]
  },
  {
   "cell_type": "markdown",
   "metadata": {},
   "source": [
    "## 6. Πρόσθετη εργασία\n",
    "\n",
    "* Προσθέστε τις στήλες με την ηλικία (Age), το φύλο (Gender) και τις προτιμήσεις υιοθεσίας (AdoptPrefs).\n",
    "\n",
    "* Εμπλουτίστε τη λίστα `info` με μερικές άλλες αγγελίες (του ίδιου ή άλλου ιδιοκτήτη). Ο μόνος περιορισμός είναι η μοναδικότητα των ονομάτων. Βεβαιωθείτε ότι το PetBot φτιάχνει το σωστό csv!"
   ]
  },
  {
   "cell_type": "code",
   "execution_count": null,
   "metadata": {
    "collapsed": true
   },
   "outputs": [],
   "source": []
  }
 ],
 "metadata": {
  "kernelspec": {
   "display_name": "Python 3",
   "language": "python",
   "name": "python3"
  },
  "language_info": {
   "codemirror_mode": {
    "name": "ipython",
    "version": 3
   },
   "file_extension": ".py",
   "mimetype": "text/x-python",
   "name": "python",
   "nbconvert_exporter": "python",
   "pygments_lexer": "ipython3",
   "version": "3.4.3"
  }
 },
 "nbformat": 4,
 "nbformat_minor": 0
}
